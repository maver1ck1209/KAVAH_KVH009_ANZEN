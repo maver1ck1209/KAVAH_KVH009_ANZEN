{
 "cells": [
  {
   "cell_type": "code",
   "execution_count": 1,
   "id": "af65f000",
   "metadata": {
    "scrolled": true
   },
   "outputs": [],
   "source": [
    "import cv2\n",
    "import numpy as np\n",
    "import face_recognition\n",
    "import os\n",
    "import matplotlib.pyplot as plt\n",
    "from simple_facerec import SimpleFacerec"
   ]
  },
  {
   "cell_type": "code",
   "execution_count": 2,
   "id": "781891c4",
   "metadata": {},
   "outputs": [],
   "source": [
    "path = \"images\"\n",
    "images = []\n",
    "classnames = []\n",
    "myList = os.listdir(path)\n",
    "for i in myList:\n",
    "    curimg = cv2.imread(f'{path}/{i}')\n",
    "    images.append(curimg)\n",
    "    classnames.append(os.path.splitext(i)[0])\n",
    "    cv2.waitKey(0)\n",
    "    cv2.destroyAllWindows()"
   ]
  },
  {
   "cell_type": "code",
   "execution_count": 3,
   "id": "1433474e",
   "metadata": {},
   "outputs": [],
   "source": [
    "def findEncodings(images):\n",
    "    encodelist = []\n",
    "    for img in images:\n",
    "        img = cv2.cvtColor(img,cv2.COLOR_BGR2RGB)\n",
    "        encode = face_recognition.face_encodings(img)[0]\n",
    "        encodelist.append(encode)\n",
    "    return encodelist"
   ]
  },
  {
   "cell_type": "code",
   "execution_count": 4,
   "id": "e37a5958",
   "metadata": {},
   "outputs": [
    {
     "name": "stdout",
     "output_type": "stream",
     "text": [
      "5 Images encoded\n"
     ]
    }
   ],
   "source": [
    "encodelistknown = findEncodings(images)\n",
    "print(f\"{len(encodelistknown)} Images encoded\")"
   ]
  },
  {
   "cell_type": "code",
   "execution_count": 5,
   "id": "c493142a",
   "metadata": {},
   "outputs": [],
   "source": [
    "import cv2\n",
    "from tensorflow.keras.utils import img_to_array\n",
    "face_haar_cascade = cv2.CascadeClassifier(cv2.data.haarcascades + 'haarcascade_frontalface_default.xml')"
   ]
  },
  {
   "cell_type": "code",
   "execution_count": 6,
   "id": "99b38af5",
   "metadata": {},
   "outputs": [],
   "source": [
    "#web cam\n",
    "cap = cv2.VideoCapture(0)\n",
    "while True:\n",
    "    ret, frame = cap.read()\n",
    "    frames = cv2.resize(frame,(0,0),None,0.25,0.25)\n",
    "    frames = cv2.cvtColor(frames,cv2.COLOR_BGR2RGB)\n",
    "    height, width , channel = frame.shape\n",
    "    gray_image= cv2.cvtColor(frame, cv2.COLOR_BGR2GRAY)\n",
    "    faces = face_haar_cascade.detectMultiScale(gray_image)\n",
    "    faceloc = face_recognition.face_locations(frames)\n",
    "    encode = face_recognition.face_encodings(frames,faceloc)\n",
    "    try:\n",
    "        for i,j in zip(encode,faceloc):\n",
    "            matches = face_recognition.compare_faces(encodelistknown,i)\n",
    "            facedis = face_recognition.face_distance(encodelistknown,i)\n",
    "            matchindex = np.argmin(facedis)\n",
    "            if matches[matchindex]:\n",
    "                name = classnames[matchindex].upper()\n",
    "                y1,x2,y2,x1 = j\n",
    "                y1,x2,y2,x1 = (y1)*4,(x2)*4,(y2)*4,(x1)*4\n",
    "                roi_gray = gray_image[y1-5:y2+5,x1-5:x2+5]\n",
    "                roi_gray=cv2.resize(roi_gray,(48,48))\n",
    "                image_pixels = img_to_array(roi_gray)\n",
    "                image_pixels = np.expand_dims(image_pixels, axis = 0)\n",
    "                image_pixels /= 255\n",
    "                frame = cv2.rectangle(frame,(x1,y1),(x2,y2),(0,255,0),2)\n",
    "                frame = cv2.rectangle(frame,(x1,y2+35),(x2,y2),(0,255,0),cv2.FILLED)\n",
    "                frame = cv2.putText(frame,name,(x1,y2+35),cv2.FONT_HERSHEY_COMPLEX,1,(0,0,255),2)\n",
    "    except:\n",
    "        pass\n",
    "    cv2.imshow(\"WEBCAM\", frame)\n",
    "    key = cv2.waitKey(1)\n",
    "    if key ==27:\n",
    "        break\n",
    "cap.release()\n",
    "cv2.destroyAllWindows()"
   ]
  },
  {
   "cell_type": "code",
   "execution_count": null,
   "id": "7d5f5a45",
   "metadata": {},
   "outputs": [],
   "source": []
  }
 ],
 "metadata": {
  "kernelspec": {
   "display_name": "Python 3 (ipykernel)",
   "language": "python",
   "name": "python3"
  },
  "language_info": {
   "codemirror_mode": {
    "name": "ipython",
    "version": 3
   },
   "file_extension": ".py",
   "mimetype": "text/x-python",
   "name": "python",
   "nbconvert_exporter": "python",
   "pygments_lexer": "ipython3",
   "version": "3.8.16"
  }
 },
 "nbformat": 4,
 "nbformat_minor": 5
}
