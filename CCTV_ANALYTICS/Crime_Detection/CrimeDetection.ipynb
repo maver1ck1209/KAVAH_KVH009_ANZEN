{
 "cells": [
  {
   "cell_type": "code",
   "execution_count": 9,
   "metadata": {
    "id": "0bDAIAdP87Gr"
   },
   "outputs": [],
   "source": [
    "# Import Necessary Libraries\n",
    "import numpy as np\n",
    "import pandas as pd\n",
    "import os\n",
    "import io\n",
    "import cv2\n",
    "from sklearn.metrics import classification_report, confusion_matrix\n",
    "import seaborn as sns\n",
    "from tqdm import tqdm\n",
    "import matplotlib.pyplot as plt\n",
    "import tensorflow as tf\n",
    "from tensorflow.keras import models\n",
    "from tensorflow.keras.models import Sequential, load_model\n",
    "from tensorflow.keras.layers import Conv2D, MaxPool2D, MaxPooling2D, Dense, Flatten\n",
    "from tensorflow.keras import Sequential\n",
    "from tensorflow.keras.callbacks import EarlyStopping, ReduceLROnPlateau, TensorBoard, ModelCheckpoint\n",
    "from tensorflow.keras.applications import ResNet152 # Load pre-trained model"
   ]
  },
  {
   "cell_type": "code",
   "execution_count": 10,
   "metadata": {
    "id": "4sLxTXuK6vHY"
   },
   "outputs": [],
   "source": [
    "# Add labels for classification\n",
    "labels = ['Abuse', 'Arrest', 'Arson', 'Assault', 'Burglary', 'Explosion', 'Fighting', 'NormalVideos', 'RoadAccidents', 'Robbery', 'Shooting', 'Shoplifting', 'Stealing', 'Vandalism']"
   ]
  },
  {
   "cell_type": "code",
   "execution_count": 11,
   "metadata": {},
   "outputs": [],
   "source": [
    "import pickle"
   ]
  },
  {
   "cell_type": "code",
   "execution_count": 40,
   "metadata": {},
   "outputs": [],
   "source": [
    "X_train = []\n",
    "Y_train = []"
   ]
  },
  {
   "cell_type": "code",
   "execution_count": 41,
   "metadata": {},
   "outputs": [],
   "source": [
    "X_test = []\n",
    "Y_test = []"
   ]
  },
  {
   "cell_type": "code",
   "execution_count": 13,
   "metadata": {},
   "outputs": [],
   "source": [
    "# Reading from pickle file\n",
    "f = open('train.pickle', 'rb')\n",
    "train_data = pickle.load(f)\n",
    "f.close()"
   ]
  },
  {
   "cell_type": "code",
   "execution_count": 16,
   "metadata": {},
   "outputs": [],
   "source": [
    "# Reading from pickle file\n",
    "f = open('test.pickle', 'rb')\n",
    "test_data = pickle.load(f)\n",
    "f.close()"
   ]
  },
  {
   "cell_type": "code",
   "execution_count": 42,
   "metadata": {},
   "outputs": [],
   "source": [
    "for i, j in train_data:\n",
    "    X_train.append(i)\n",
    "    Y_train.append(j)"
   ]
  },
  {
   "cell_type": "code",
   "execution_count": 43,
   "metadata": {},
   "outputs": [],
   "source": [
    "for i, j in test_data:\n",
    "    X_test.append(i)\n",
    "    Y_test.append(j)"
   ]
  },
  {
   "cell_type": "code",
   "execution_count": 44,
   "metadata": {},
   "outputs": [],
   "source": [
    "X_train = np.array(X_train)\n",
    "Y_train = np.array(Y_train)\n",
    "X_test = np.array(X_test)\n",
    "Y_test = np.array(Y_test)"
   ]
  },
  {
   "cell_type": "code",
   "execution_count": 45,
   "metadata": {},
   "outputs": [],
   "source": [
    "Y_train = tf.keras.utils.to_categorical(Y_train)\n",
    "Y_test = tf.keras.utils.to_categorical(Y_test)"
   ]
  },
  {
   "cell_type": "code",
   "execution_count": 46,
   "metadata": {},
   "outputs": [
    {
     "data": {
      "text/plain": [
       "(1266345, 14)"
      ]
     },
     "execution_count": 46,
     "metadata": {},
     "output_type": "execute_result"
    }
   ],
   "source": [
    "Y_train.shape"
   ]
  },
  {
   "cell_type": "code",
   "execution_count": 47,
   "metadata": {
    "colab": {
     "base_uri": "https://localhost:8080/"
    },
    "id": "FQE3idk894MH",
    "outputId": "32a13511-4502-4bf2-b494-465ab594e3ed"
   },
   "outputs": [
    {
     "name": "stdout",
     "output_type": "stream",
     "text": [
      "Model: \"sequential_4\"\n",
      "_________________________________________________________________\n",
      " Layer (type)                Output Shape              Param #   \n",
      "=================================================================\n",
      " conv2d_24 (Conv2D)          (None, 62, 62, 8)         224       \n",
      "                                                                 \n",
      " conv2d_25 (Conv2D)          (None, 60, 60, 8)         584       \n",
      "                                                                 \n",
      " conv2d_26 (Conv2D)          (None, 58, 58, 8)         584       \n",
      "                                                                 \n",
      " max_pooling2d_8 (MaxPooling  (None, 29, 29, 8)        0         \n",
      " 2D)                                                             \n",
      "                                                                 \n",
      " dense_12 (Dense)            (None, 29, 29, 8)         72        \n",
      "                                                                 \n",
      " conv2d_27 (Conv2D)          (None, 27, 27, 64)        4672      \n",
      "                                                                 \n",
      " conv2d_28 (Conv2D)          (None, 25, 25, 64)        36928     \n",
      "                                                                 \n",
      " conv2d_29 (Conv2D)          (None, 23, 23, 64)        36928     \n",
      "                                                                 \n",
      " max_pooling2d_9 (MaxPooling  (None, 11, 11, 64)       0         \n",
      " 2D)                                                             \n",
      "                                                                 \n",
      " dense_13 (Dense)            (None, 11, 11, 64)        4160      \n",
      "                                                                 \n",
      " flatten_4 (Flatten)         (None, 7744)              0         \n",
      "                                                                 \n",
      " dense_14 (Dense)            (None, 14)                108430    \n",
      "                                                                 \n",
      "=================================================================\n",
      "Total params: 192,582\n",
      "Trainable params: 192,582\n",
      "Non-trainable params: 0\n",
      "_________________________________________________________________\n",
      "None\n"
     ]
    }
   ],
   "source": [
    "# Create the model\n",
    "\n",
    "# \n",
    "model = Sequential()\n",
    "model.add(Conv2D(8, kernel_size=(3, 3), activation='relu', input_shape=(64, 64, 3)))\n",
    "model.add(Conv2D(8, kernel_size=(3, 3), activation='relu'))\n",
    "model.add(Conv2D(8, kernel_size=(3, 3), activation='relu'))\n",
    "model.add(MaxPooling2D(pool_size=(2, 2)))\n",
    "model.add(Dense(8, activation='relu'))\n",
    "model.add(Conv2D(64, kernel_size=(3, 3), activation='relu'))\n",
    "model.add(Conv2D(64, kernel_size=(3, 3), activation='relu'))\n",
    "model.add(Conv2D(64, kernel_size=(3, 3), activation='relu'))\n",
    "model.add(MaxPooling2D(pool_size=(2, 2)))\n",
    "model.add(Dense(64, activation='relu'))\n",
    "model.add(Flatten())\n",
    "model.add(Dense(14, activation = 'softmax'))\n",
    "\n",
    "# Optimization\n",
    "opt = tf.keras.optimizers.Adam(learning_rate = 0.001)\n",
    "\n",
    "# Compile model\n",
    "model.compile(loss = 'categorical_crossentropy', optimizer = opt, metrics = ['accuracy'])\n",
    "\n",
    "# Model Summary\n",
    "print(model.summary())"
   ]
  },
  {
   "cell_type": "code",
   "execution_count": 48,
   "metadata": {
    "id": "jQfNigec58KV"
   },
   "outputs": [],
   "source": [
    "tensorboard = TensorBoard(log_dir = 'logs')\n",
    "checkpoint = ModelCheckpoint(\"kavach.h5\", monitor = \"val_accuracy\", save_best_only = True, \n",
    "                             mode = \"auto\", verbose = 1)\n",
    "reducelearningrate = ReduceLROnPlateau(monitor = 'val_accuracy', factor = 0.05, min_delta = 0.001,\n",
    "                              mode = 'auto', verbose = 1)"
   ]
  },
  {
   "cell_type": "code",
   "execution_count": null,
   "metadata": {
    "colab": {
     "base_uri": "https://localhost:8080/"
    },
    "id": "cvXGGoHlip21",
    "outputId": "cf0400e2-624e-45f8-f6a6-eefed32714ce"
   },
   "outputs": [
    {
     "name": "stdout",
     "output_type": "stream",
     "text": [
      "Epoch 1/5\n",
      "8865/8865 [==============================] - ETA: 0s - loss: 0.0437 - accuracy: 0.9877\n",
      "Epoch 1: val_accuracy improved from -inf to 0.57412, saving model to kavach.h5\n",
      "8865/8865 [==============================] - 19303s 2s/step - loss: 0.0437 - accuracy: 0.9877 - val_loss: 12.0559 - val_accuracy: 0.5741 - lr: 0.0010\n",
      "Epoch 2/5\n",
      "8865/8865 [==============================] - ETA: 0s - loss: 0.0176 - accuracy: 0.9951\n",
      "Epoch 2: val_accuracy improved from 0.57412 to 0.57412, saving model to kavach.h5\n",
      "8865/8865 [==============================] - 12292s 1s/step - loss: 0.0176 - accuracy: 0.9951 - val_loss: 11.2700 - val_accuracy: 0.5741 - lr: 0.0010\n",
      "Epoch 3/5\n",
      " 306/8865 [>.............................] - ETA: 1:34:42 - loss: 0.0096 - accuracy: 0.9974"
     ]
    }
   ],
   "source": [
    "# Train the model\n",
    "training = model.fit(X_train, Y_train, validation_split = 0.3, batch_size = 100, epochs = 5, verbose = 1,\n",
    "                   callbacks = [tensorboard, checkpoint, reducelearningrate])"
   ]
  },
  {
   "cell_type": "code",
   "execution_count": null,
   "metadata": {},
   "outputs": [],
   "source": [
    "from keras.utils.vis_utils import plot_model\n",
    "!pip install visualkeras\n",
    "import visualkeras\n",
    "plot_model(model, to_file='kavach.png', show_shapes=True, show_layer_names=True)"
   ]
  },
  {
   "cell_type": "code",
   "execution_count": null,
   "metadata": {},
   "outputs": [],
   "source": [
    "visualkeras.layered_view(model)"
   ]
  },
  {
   "cell_type": "code",
   "execution_count": 35,
   "metadata": {
    "colab": {
     "base_uri": "https://localhost:8080/",
     "height": 573
    },
    "id": "NdrFgZfkY6Ym",
    "outputId": "6754511d-0336-4ab8-e68c-78e9fb9a2343"
   },
   "outputs": [
    {
     "data": {
      "image/png": "[encoded data removed]",
      "text/plain": [
       "<Figure size 432x288 with 1 Axes>"
      ]
     },
     "metadata": {
      "needs_background": "light"
     },
     "output_type": "display_data"
    },
    {
     "data": {
      "image/png": "[encoded data removed]",
      "text/plain": [
       "<Figure size 432x288 with 1 Axes>"
      ]
     },
     "metadata": {
      "needs_background": "light"
     },
     "output_type": "display_data"
    }
   ],
   "source": [
    "# Plot Accuracy\n",
    "fig1, ax_acc = plt.subplots()\n",
    "plt.plot(training.history['accuracy'])\n",
    "plt.plot(training.history['val_accuracy'])\n",
    "plt.xlabel('Epoch')\n",
    "plt.ylabel('Accuracy')\n",
    "plt.title('Model - Accuracy')\n",
    "plt.legend(['Training', 'Validation'], loc='lower right')\n",
    "plt.show()\n",
    "\n",
    "# Plot Loss\n",
    "fig2, ax_loss = plt.subplots()\n",
    "plt.xlabel('Epoch')\n",
    "plt.ylabel('Loss')\n",
    "plt.title('Model - Loss')\n",
    "plt.legend(['Training', 'Validation'], loc='upper right')\n",
    "plt.plot(training.history['loss'])\n",
    "plt.plot(training.history['val_loss'])\n",
    "plt.show()"
   ]
  },
  {
   "cell_type": "code",
   "execution_count": 36,
   "metadata": {
    "colab": {
     "base_uri": "https://localhost:8080/"
    },
    "id": "IcQ4EFBJZwc3",
    "outputId": "6a7f4610-fef7-481a-8ad6-c0c59d842a9e"
   },
   "outputs": [
    {
     "name": "stdout",
     "output_type": "stream",
     "text": [
      "13/13 [==============================] - 1s 38ms/step\n"
     ]
    }
   ],
   "source": [
    "# Prediction\n",
    "prediction = model.predict(X_test)\n",
    "prediction = np.argmax(prediction, axis = 1)\n",
    "Y_test_new = np.argmax(Y_test, axis = 1)"
   ]
  },
  {
   "cell_type": "code",
   "execution_count": 37,
   "metadata": {
    "colab": {
     "base_uri": "https://localhost:8080/"
    },
    "id": "azR4i5xDZ-wV",
    "outputId": "f43ad547-0734-44d8-c321-22904ed14e27"
   },
   "outputs": [
    {
     "name": "stdout",
     "output_type": "stream",
     "text": [
      "              precision    recall  f1-score   support\n",
      "\n",
      "           0       0.90      0.18      0.30       100\n",
      "           1       0.67      0.97      0.79       115\n",
      "           2       0.67      1.00      0.80       105\n",
      "           3       0.94      0.66      0.78        74\n",
      "\n",
      "    accuracy                           0.72       394\n",
      "   macro avg       0.80      0.70      0.67       394\n",
      "weighted avg       0.78      0.72      0.67       394\n",
      "\n",
      "[[ 18  35  45   2]\n",
      " [  0 111   3   1]\n",
      " [  0   0 105   0]\n",
      " [  2  19   4  49]]\n"
     ]
    }
   ],
   "source": [
    "# Model Features\n",
    "print(classification_report(Y_test_new, prediction))\n",
    "print(confusion_matrix(Y_test_new, prediction))"
   ]
  },
  {
   "cell_type": "code",
   "execution_count": 40,
   "metadata": {
    "colab": {
     "base_uri": "https://localhost:8080/"
    },
    "id": "Vr3eGC6qca-Q",
    "outputId": "9a73b530-ce35-4546-fa03-975f8b392715"
   },
   "outputs": [
    {
     "name": "stdout",
     "output_type": "stream",
     "text": [
      "13/13 [==============================] - 0s 22ms/step\n",
      "              precision    recall  f1-score   support\n",
      "\n",
      "           0       0.67      0.18      0.28       100\n",
      "           1       0.65      0.21      0.32       115\n",
      "           2       0.46      0.87      0.60       105\n",
      "           3       0.48      0.84      0.61        74\n",
      "\n",
      "    accuracy                           0.49       394\n",
      "   macro avg       0.56      0.52      0.45       394\n",
      "weighted avg       0.57      0.49      0.44       394\n",
      "\n",
      "[[18  7 57 18]\n",
      " [ 5 24 47 39]\n",
      " [ 2  1 91 11]\n",
      " [ 2  5  5 62]]\n"
     ]
    }
   ],
   "source": [
    "# Loading the saved model with 99.303% validation accuracy\n",
    "loadedmodel = load_model('/content/drive/MyDrive/ColabNotebooks/Telemedicine/tumorpredictioncustom99.303,100.h5')\n",
    "pred = loadedmodel.predict(X_test)\n",
    "pred = np.argmax(pred, axis = 1)\n",
    "Y_test_new = np.argmax(Y_test, axis = 1)\n",
    "print(classification_report(Y_test_new, pred))\n",
    "print(confusion_matrix(Y_test_new, pred))"
   ]
  },
  {
   "cell_type": "code",
   "execution_count": 41,
   "metadata": {
    "colab": {
     "base_uri": "https://localhost:8080/"
    },
    "id": "S28QuL4Vf7TJ",
    "outputId": "01fdc88f-151b-4ba2-bddc-87d2a5b509e0"
   },
   "outputs": [
    {
     "name": "stdout",
     "output_type": "stream",
     "text": [
      "13/13 [==============================] - 1s 27ms/step - loss: 2.0850 - accuracy: 0.4949\n"
     ]
    }
   ],
   "source": [
    "loss, accuracy = loadedmodel.evaluate(X_test, Y_test, verbose = 1)"
   ]
  },
  {
   "cell_type": "code",
   "execution_count": 47,
   "metadata": {
    "colab": {
     "base_uri": "https://localhost:8080/"
    },
    "id": "QH4_C6KhOJV_",
    "outputId": "2f36a16a-cff1-47a5-b5e0-d0d5b141c4cc"
   },
   "outputs": [
    {
     "name": "stdout",
     "output_type": "stream",
     "text": [
      "1/1 [==============================] - 0s 33ms/step\n",
      "The image uploaded is a No Tumor Scan\n"
     ]
    }
   ],
   "source": [
    "# Final Prediction of user input image\n",
    "\n",
    "# Input Image\n",
    "img = cv2.imread('/content/drive/MyDrive/ColabNotebooks/Telemedicine/ntest7.jpg')\n",
    "\n",
    "# Image Preprocessing\n",
    "img = cv2.resize(img, (200, 200))\n",
    "img = img.reshape(1, 200, 200, 3)\n",
    "\n",
    "# Model Prediction\n",
    "p = loadedmodel.predict(img)\n",
    "p = np.argmax(p, axis = 1)[0]\n",
    "\n",
    "# Display Output\n",
    "if p == 0:\n",
    "  p = 'Glioma Tumor'\n",
    "elif p == 1:\n",
    "  p = 'Meningioma Tumor'\n",
    "elif p == 2:\n",
    "  p = 'No Tumor'\n",
    "elif p == 3:\n",
    "  p = 'Pituitary Tumor'\n",
    "if p != 1:\n",
    "  print(f'The image uploaded is a {p} Scan')"
   ]
  }
 ],
 "metadata": {
  "accelerator": "GPU",
  "colab": {
   "provenance": []
  },
  "gpuClass": "standard",
  "kernelspec": {
   "display_name": "Python 3 (ipykernel)",
   "language": "python",
   "name": "python3"
  },
  "language_info": {
   "codemirror_mode": {
    "name": "ipython",
    "version": 3
   },
   "file_extension": ".py",
   "mimetype": "text/x-python",
   "name": "python",
   "nbconvert_exporter": "python",
   "pygments_lexer": "ipython3",
   "version": "3.8.16"
  }
 },
 "nbformat": 4,
 "nbformat_minor": 1
}
