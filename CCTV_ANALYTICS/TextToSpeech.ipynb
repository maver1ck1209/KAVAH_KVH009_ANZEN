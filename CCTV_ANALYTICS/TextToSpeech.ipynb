{
 "cells": [
  {
   "cell_type": "code",
   "execution_count": 5,
   "id": "744da421",
   "metadata": {},
   "outputs": [
    {
     "data": {
      "text/plain": [
       "1"
      ]
     },
     "execution_count": 5,
     "metadata": {},
     "output_type": "execute_result"
    }
   ],
   "source": [
    "# Install Library for Text to Speech Conversion\n",
    "# Google Text to Speech API\n",
    "# !pip install gTTS\n",
    "\n",
    "# Import the required module for text \n",
    "# to speech conversion\n",
    "from gtts import gTTS\n",
    "  \n",
    "# This module is imported so that we can play the converted audio\n",
    "import os\n",
    "  \n",
    "# The text that you want to convert to audio\n",
    "mytext = 'Welcome to kavach!'\n",
    "  \n",
    "# Language in which you want to convert\n",
    "language = 'en' # Hindi - hi, Tamil - ta\n",
    "  \n",
    "# Passing the text and language to the engine, \n",
    "# here we have marked slow=False. Which tells \n",
    "# the module that the converted audio should \n",
    "# have a high speed\n",
    "myobj = gTTS(text=mytext, lang=language, slow=False)\n",
    "  \n",
    "# Saving the converted audio in a mp3 file named\n",
    "# welcome \n",
    "myobj.save(\"welcome.mp3\")\n",
    "  \n",
    "# Playing the converted file\n",
    "os.system(\"mpg321 welcome.mp3\")\n",
    "\n",
    "# !pip install playsound\n",
    "# import required module\n",
    "from playsound import playsound\n",
    " \n",
    "# for playing note.mp3 file\n",
    "playsound('welcome.mp3')\n",
    "print('playing sound using  playsound')"
   ]
  }
 ],
 "metadata": {
  "kernelspec": {
   "display_name": "Python 3 (ipykernel)",
   "language": "python",
   "name": "python3"
  },
  "language_info": {
   "codemirror_mode": {
    "name": "ipython",
    "version": 3
   },
   "file_extension": ".py",
   "mimetype": "text/x-python",
   "name": "python",
   "nbconvert_exporter": "python",
   "pygments_lexer": "ipython3",
   "version": "3.8.16"
  }
 },
 "nbformat": 4,
 "nbformat_minor": 5
}
