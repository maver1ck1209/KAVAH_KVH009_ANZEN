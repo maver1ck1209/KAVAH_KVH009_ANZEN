{
 "cells": [
  {
   "cell_type": "code",
   "execution_count": 6,
   "id": "41c658d5",
   "metadata": {},
   "outputs": [
    {
     "name": "stdout",
     "output_type": "stream",
     "text": [
      "Requirement already satisfied: mediapipe in c:\\users\\mansi\\appdata\\roaming\\python\\python38\\site-packages (0.9.2.1)\n",
      "Requirement already satisfied: matplotlib in c:\\users\\mansi\\anaconda3\\envs\\pot\\lib\\site-packages (from mediapipe) (3.7.0)\n",
      "Requirement already satisfied: attrs>=19.1.0 in c:\\users\\mansi\\anaconda3\\envs\\pot\\lib\\site-packages (from mediapipe) (22.2.0)\n",
      "Requirement already satisfied: numpy in c:\\users\\mansi\\anaconda3\\envs\\pot\\lib\\site-packages (from mediapipe) (1.24.2)\n",
      "Requirement already satisfied: flatbuffers>=2.0 in c:\\users\\mansi\\anaconda3\\envs\\pot\\lib\\site-packages (from mediapipe) (23.3.3)\n",
      "Requirement already satisfied: absl-py in c:\\users\\mansi\\anaconda3\\envs\\pot\\lib\\site-packages (from mediapipe) (1.4.0)\n",
      "Requirement already satisfied: opencv-contrib-python in c:\\users\\mansi\\appdata\\roaming\\python\\python38\\site-packages (from mediapipe) (4.7.0.72)\n",
      "Requirement already satisfied: protobuf<4,>=3.11 in c:\\users\\mansi\\anaconda3\\envs\\pot\\lib\\site-packages (from mediapipe) (3.19.6)\n",
      "Requirement already satisfied: packaging>=20.0 in c:\\users\\mansi\\anaconda3\\envs\\pot\\lib\\site-packages (from matplotlib->mediapipe) (23.0)\n",
      "Requirement already satisfied: contourpy>=1.0.1 in c:\\users\\mansi\\anaconda3\\envs\\pot\\lib\\site-packages (from matplotlib->mediapipe) (1.0.7)\n",
      "Requirement already satisfied: python-dateutil>=2.7 in c:\\users\\mansi\\anaconda3\\envs\\pot\\lib\\site-packages (from matplotlib->mediapipe) (2.8.2)\n",
      "Requirement already satisfied: kiwisolver>=1.0.1 in c:\\users\\mansi\\anaconda3\\envs\\pot\\lib\\site-packages (from matplotlib->mediapipe) (1.4.4)\n",
      "Requirement already satisfied: cycler>=0.10 in c:\\users\\mansi\\anaconda3\\envs\\pot\\lib\\site-packages (from matplotlib->mediapipe) (0.11.0)\n",
      "Requirement already satisfied: pillow>=6.2.0 in c:\\users\\mansi\\anaconda3\\envs\\pot\\lib\\site-packages (from matplotlib->mediapipe) (9.4.0)\n",
      "Requirement already satisfied: fonttools>=4.22.0 in c:\\users\\mansi\\anaconda3\\envs\\pot\\lib\\site-packages (from matplotlib->mediapipe) (4.38.0)\n",
      "Requirement already satisfied: importlib-resources>=3.2.0 in c:\\users\\mansi\\anaconda3\\envs\\pot\\lib\\site-packages (from matplotlib->mediapipe) (5.12.0)\n",
      "Requirement already satisfied: pyparsing>=2.3.1 in c:\\users\\mansi\\anaconda3\\envs\\pot\\lib\\site-packages (from matplotlib->mediapipe) (3.0.9)\n",
      "Requirement already satisfied: zipp>=3.1.0 in c:\\users\\mansi\\anaconda3\\envs\\pot\\lib\\site-packages (from importlib-resources>=3.2.0->matplotlib->mediapipe) (3.15.0)\n",
      "Requirement already satisfied: six>=1.5 in c:\\users\\mansi\\anaconda3\\envs\\pot\\lib\\site-packages (from python-dateutil>=2.7->matplotlib->mediapipe) (1.16.0)\n"
     ]
    },
    {
     "name": "stderr",
     "output_type": "stream",
     "text": [
      "WARNING: Ignoring invalid distribution -rotobuf (c:\\users\\mansi\\anaconda3\\envs\\pot\\lib\\site-packages)\n",
      "WARNING: Ignoring invalid distribution -rotobuf (c:\\users\\mansi\\anaconda3\\envs\\pot\\lib\\site-packages)\n",
      "WARNING: Ignoring invalid distribution -rotobuf (c:\\users\\mansi\\anaconda3\\envs\\pot\\lib\\site-packages)\n",
      "WARNING: Ignoring invalid distribution -rotobuf (c:\\users\\mansi\\anaconda3\\envs\\pot\\lib\\site-packages)\n",
      "WARNING: Ignoring invalid distribution -rotobuf (c:\\users\\mansi\\anaconda3\\envs\\pot\\lib\\site-packages)\n",
      "WARNING: Ignoring invalid distribution -rotobuf (c:\\users\\mansi\\anaconda3\\envs\\pot\\lib\\site-packages)\n"
     ]
    }
   ],
   "source": [
    "!pip install mediapipe --user"
   ]
  },
  {
   "cell_type": "code",
   "execution_count": 7,
   "id": "02a2c21c",
   "metadata": {},
   "outputs": [],
   "source": [
    "import cv2\n",
    "import mediapipe as mp\n",
    "import matplotlib.pyplot as plt"
   ]
  },
  {
   "cell_type": "code",
   "execution_count": 8,
   "id": "eb188d1d",
   "metadata": {},
   "outputs": [],
   "source": [
    "# Initialize mediapipe pose class.\n",
    "mp_pose = mp.solutions.pose\n",
    "\n",
    "# Setup the Pose function for images - independently for the images standalone processing.\n",
    "pose_image = mp_pose.Pose(static_image_mode=True, min_detection_confidence=0.5)\n",
    "\n",
    "# Setup the Pose function for videos - for video processing.\n",
    "pose_video = mp_pose.Pose(static_image_mode=False, min_detection_confidence=0.7,\n",
    "                          min_tracking_confidence=0.7)\n",
    "\n",
    "# Initialize mediapipe drawing class - to draw the landmarks points.\n",
    "mp_drawing = mp.solutions.drawing_utils"
   ]
  },
  {
   "cell_type": "code",
   "execution_count": 9,
   "id": "5a4f95d8",
   "metadata": {},
   "outputs": [],
   "source": [
    "def detectPose(image_pose, pose, draw=False, display=False):\n",
    "    \n",
    "    original_image = image_pose.copy()\n",
    "    \n",
    "    image_in_RGB = cv2.cvtColor(image_pose, cv2.COLOR_BGR2RGB)\n",
    "    \n",
    "    resultant = pose.process(image_in_RGB)\n",
    "\n",
    "    if resultant.pose_landmarks and draw:    \n",
    "\n",
    "        mp_drawing.draw_landmarks(image=original_image, landmark_list=resultant.pose_landmarks,\n",
    "                                  connections=mp_pose.POSE_CONNECTIONS,\n",
    "                                  landmark_drawing_spec=mp_drawing.DrawingSpec(color=(255,255,255),\n",
    "                                                                               thickness=3, circle_radius=3),\n",
    "                                  connection_drawing_spec=mp_drawing.DrawingSpec(color=(49,125,237),\n",
    "                                                                               thickness=2, circle_radius=2))\n",
    "\n",
    "    return original_image"
   ]
  },
  {
   "cell_type": "code",
   "execution_count": 10,
   "id": "8ddac175",
   "metadata": {},
   "outputs": [],
   "source": [
    "cap = cv2.VideoCapture(0)\n",
    "while True:\n",
    "    ret, frame = cap.read()\n",
    "    frame = detectPose(frame, pose_image, draw=True)\n",
    "    cv2.imshow(\"pose\", frame)\n",
    "    if (cv2.waitKey(1) == 27):\n",
    "        cv2.destroyAllWindows()\n",
    "        cap.release()\n",
    "        break"
   ]
  },
  {
   "cell_type": "code",
   "execution_count": null,
   "id": "e00e10e7",
   "metadata": {},
   "outputs": [],
   "source": [
    "cv2.destroyAllWindows()\n",
    "cap.release()"
   ]
  }
 ],
 "metadata": {
  "kernelspec": {
   "display_name": "Python 3 (ipykernel)",
   "language": "python",
   "name": "python3"
  },
  "language_info": {
   "codemirror_mode": {
    "name": "ipython",
    "version": 3
   },
   "file_extension": ".py",
   "mimetype": "text/x-python",
   "name": "python",
   "nbconvert_exporter": "python",
   "pygments_lexer": "ipython3",
   "version": "3.8.16"
  }
 },
 "nbformat": 4,
 "nbformat_minor": 5
}
